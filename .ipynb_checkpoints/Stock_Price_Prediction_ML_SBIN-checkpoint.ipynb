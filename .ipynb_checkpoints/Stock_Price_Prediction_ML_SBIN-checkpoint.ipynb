{
 "cells": [
  {
   "cell_type": "code",
   "execution_count": 1,
   "id": "e4c8cb3f",
   "metadata": {},
   "outputs": [
    {
     "ename": "ModuleNotFoundError",
     "evalue": "No module named 'pandas_datareader'",
     "output_type": "error",
     "traceback": [
      "\u001b[1;31m---------------------------------------------------------------------------\u001b[0m",
      "\u001b[1;31mModuleNotFoundError\u001b[0m                       Traceback (most recent call last)",
      "Cell \u001b[1;32mIn[1], line 11\u001b[0m\n\u001b[0;32m      8\u001b[0m get_ipython()\u001b[38;5;241m.\u001b[39mrun_line_magic(\u001b[38;5;124m'\u001b[39m\u001b[38;5;124mmatplotlib\u001b[39m\u001b[38;5;124m'\u001b[39m, \u001b[38;5;124m'\u001b[39m\u001b[38;5;124minline\u001b[39m\u001b[38;5;124m'\u001b[39m)\n\u001b[0;32m     10\u001b[0m \u001b[38;5;66;03m# For reading stock data from yahoo\u001b[39;00m\n\u001b[1;32m---> 11\u001b[0m \u001b[38;5;28;01mfrom\u001b[39;00m \u001b[38;5;21;01mpandas_datareader\u001b[39;00m\u001b[38;5;21;01m.\u001b[39;00m\u001b[38;5;21;01mdata\u001b[39;00m \u001b[38;5;28;01mimport\u001b[39;00m DataReader\n\u001b[0;32m     12\u001b[0m \u001b[38;5;28;01mimport\u001b[39;00m \u001b[38;5;21;01myfinance\u001b[39;00m \u001b[38;5;28;01mas\u001b[39;00m \u001b[38;5;21;01myf\u001b[39;00m\n\u001b[0;32m     14\u001b[0m \u001b[38;5;66;03m# For time stamps\u001b[39;00m\n",
      "\u001b[1;31mModuleNotFoundError\u001b[0m: No module named 'pandas_datareader'"
     ]
    }
   ],
   "source": [
    "import pandas as pd\n",
    "import numpy as np\n",
    "\n",
    "import matplotlib.pyplot as plt\n",
    "import seaborn as sns\n",
    "sns.set_style('whitegrid')\n",
    "plt.style.use(\"fivethirtyeight\")\n",
    "%matplotlib inline\n",
    "\n",
    "# For reading stock data from yahoo\n",
    "from pandas_datareader.data import DataReader\n",
    "import yfinance as yf\n",
    "\n",
    "# For time stamps\n",
    "from datetime import datetime\n",
    "\n",
    "tech_list = ['SBIN.NS', 'RELIANCE.NS']\n",
    "end = datetime.now()\n",
    "start = datetime(end.year - 1, end.month, end.day)\n",
    "\n",
    "dfs = {}\n",
    "\n",
    "for stock in tech_list:\n",
    "    df = yf.download(stock, start, end)\n",
    "    dfs[stock] = df\n",
    "\n",
    "SBIN = dfs['SBIN.NS']\n",
    "RELIANCE = dfs['RELIANCE.NS']"
   ]
  },
  {
   "cell_type": "code",
   "execution_count": null,
   "id": "3b63877c",
   "metadata": {
    "scrolled": true
   },
   "outputs": [],
   "source": [
    "print(SBIN)"
   ]
  },
  {
   "cell_type": "code",
   "execution_count": null,
   "id": "60c01339",
   "metadata": {},
   "outputs": [],
   "source": [
    "SBIN.describe()"
   ]
  },
  {
   "cell_type": "code",
   "execution_count": null,
   "id": "c23b851b",
   "metadata": {},
   "outputs": [],
   "source": [
    "#The closing price is the last price at which the stock is traded during the regular trading day. A stock’s closing price\n",
    "#is the standard benchmark used by investors to track its performance over time.\n",
    "\n",
    "# Let's see a historical view of the closing price\n",
    "company_list = [(SBIN, 'State Bank of India'), (RELIANCE, 'Reliance Industries Limited')]\n",
    "plt.figure(figsize=(15, 10))\n",
    "plt.subplots_adjust(top=1.25, bottom=1.2)\n",
    "\n",
    "for i, (company, name) in enumerate(company_list, 1):\n",
    "    plt.subplot(2, 2, i)\n",
    "    company['Close'].plot()\n",
    "    plt.title(name, fontsize=12)\n",
    "    plt.ylabel('Adjusted Close Price', fontsize=10)\n",
    "    plt.xlabel('')\n",
    "    plt.xticks(fontsize=8)\n",
    "    plt.yticks(fontsize=8)"
   ]
  },
  {
   "cell_type": "code",
   "execution_count": null,
   "id": "075f4788",
   "metadata": {},
   "outputs": [],
   "source": [
    "company_list = [(SBIN, 'State Bank of India'), (RELIANCE, 'Reliance Industries Limited')]\n",
    "plt.figure(figsize=(15, 10))\n",
    "plt.subplots_adjust(top=1.25, bottom=1.2)\n",
    "\n",
    "for i, (company, name) in enumerate(company_list, 1):\n",
    "    plt.subplot(2, 2, i)\n",
    "    company['Volume'].plot()\n",
    "    plt.ylabel('Volume', fontsize=10)\n",
    "    plt.xlabel(None)\n",
    "    plt.title(f\"Sales Volume for {name}\", fontsize=12)\n",
    "    plt.xticks(fontsize=8)\n",
    "    plt.yticks(fontsize=8)\n",
    "    \n",
    "plt.tight_layout()"
   ]
  },
  {
   "cell_type": "code",
   "execution_count": null,
   "id": "c632bbc1",
   "metadata": {},
   "outputs": [],
   "source": [
    "import yfinance as yf\n",
    "\n",
    "# Fetch stock data for SBIN.NS only\n",
    "df = yf.download(\"SBIN.NS\", start=\"2018-01-01\", end=\"2025-03-19\")\n",
    "# Flatten the multi-level columns to a single level (MOST IMPORTANT STEP)\n",
    "df.columns = [col[0] for col in df.columns]\n",
    "\n",
    "# Check the columns and data\n",
    "print(df.head())\n",
    "print(df.columns)\n"
   ]
  },
  {
   "cell_type": "code",
   "execution_count": null,
   "id": "f2b59016",
   "metadata": {},
   "outputs": [],
   "source": [
    "print(df.head())"
   ]
  },
  {
   "cell_type": "code",
   "execution_count": null,
   "id": "940739b6",
   "metadata": {},
   "outputs": [],
   "source": [
    "print(df.columns)  # Check available columns"
   ]
  },
  {
   "cell_type": "code",
   "execution_count": null,
   "id": "663f63bc",
   "metadata": {},
   "outputs": [],
   "source": [
    "plt.figure(figsize=(16,6))\n",
    "plt.title('Close Price History of State Bank Of India')\n",
    "plt.plot(df['Close'])\n",
    "plt.xlabel('Date', fontsize=18)\n",
    "plt.ylabel('Close Price (INR)', fontsize=18)\n",
    "plt.show()"
   ]
  },
  {
   "cell_type": "code",
   "execution_count": null,
   "id": "cc69111f",
   "metadata": {},
   "outputs": [],
   "source": [
    "print(df[['Close']].info())  # Check for data type and missing values\n",
    "print(df[['Close']].describe())  # Check if it contains meaningful values\n",
    "print(df[['Close']].head())  # Preview first few rows"
   ]
  },
  {
   "cell_type": "code",
   "execution_count": null,
   "id": "8d736796",
   "metadata": {},
   "outputs": [],
   "source": [
    "# # Fix column names\n",
    "# df.columns = df.columns.get_level_values(1)  # Get only the second level (ticker name)\n",
    "# df = df.rename(columns={df.columns[0]: \"Close\"})  # Rename to a simple \"Close\"\n",
    "\n",
    "# Check if it's fixed\n",
    "print(df.head())\n",
    "print(df.columns)\n"
   ]
  },
  {
   "cell_type": "code",
   "execution_count": null,
   "id": "e2faa84c",
   "metadata": {},
   "outputs": [],
   "source": [
    "# Create a new dataframe with only the 'Close column \n",
    "data = df.filter(['Close'])\n",
    "# Convert the dataframe to a numpy array\n",
    "dataset = data.values\n",
    "# Get the number of rows to train the model on\n",
    "training_data_len = int(np.ceil( len(dataset) * .95 ))\n",
    "\n",
    "training_data_len"
   ]
  },
  {
   "cell_type": "code",
   "execution_count": null,
   "id": "00d9c3d7",
   "metadata": {},
   "outputs": [],
   "source": [
    "from sklearn.preprocessing import MinMaxScaler\n",
    "\n",
    "scaler = MinMaxScaler(feature_range=(0,1))\n",
    "scaled_data = scaler.fit_transform(dataset)\n",
    "\n",
    "print(scaled_data[:5])  # Check first 5 scaled values"
   ]
  },
  {
   "cell_type": "code",
   "execution_count": null,
   "id": "fb83ca02",
   "metadata": {},
   "outputs": [],
   "source": [
    "# Create the training data set \n",
    "# Create the scaled training data set\n",
    "train_data = scaled_data[0:int(training_data_len), :]\n",
    "# Split the data into x_train and y_train data sets\n",
    "x_train = []\n",
    "y_train = []\n",
    "\n",
    "for i in range(60, len(train_data)):\n",
    "    x_train.append(train_data[i-60:i, 0])\n",
    "    y_train.append(train_data[i, 0])\n",
    "    if i<= 61:\n",
    "        print(x_train)\n",
    "        print(y_train)\n",
    "        print()\n",
    "        \n",
    "# Convert the x_train and y_train to numpy arrays \n",
    "x_train, y_train = np.array(x_train), np.array(y_train)\n",
    "\n",
    "# Reshape the data\n",
    "x_train = np.reshape(x_train, (x_train.shape[0], x_train.shape[1], 1))\n"
   ]
  },
  {
   "cell_type": "code",
   "execution_count": null,
   "id": "fa3e76f3",
   "metadata": {},
   "outputs": [],
   "source": [
    "from keras.models import Sequential\n",
    "from keras.layers import Dense, LSTM\n",
    "\n",
    "# Build the LSTM model\n",
    "model = Sequential()\n",
    "model.add(LSTM(128, return_sequences=True, input_shape= (x_train.shape[1], 1)))\n",
    "model.add(LSTM(64, return_sequences=False))\n",
    "model.add(Dense(25))\n",
    "model.add(Dense(1))\n",
    "\n",
    "# Compile the model\n",
    "model.compile(optimizer='adam', loss='mean_squared_error')\n",
    "\n",
    "# Train the model\n",
    "model.fit(x_train, y_train, batch_size=1, epochs=25)"
   ]
  },
  {
   "cell_type": "code",
   "execution_count": null,
   "id": "9fa24637",
   "metadata": {},
   "outputs": [],
   "source": [
    "#save the model\n",
    "model.save('stock_price_model.h5')"
   ]
  },
  {
   "cell_type": "code",
   "execution_count": null,
   "id": "edf98e94",
   "metadata": {},
   "outputs": [],
   "source": [
    "# Create the testing data set\n",
    "# Create a new array containing scaled values from index 1543 to 2002 \n",
    "test_data = scaled_data[training_data_len - 60: , :]\n",
    "# Create the data sets x_test and y_test\n",
    "x_test = []\n",
    "y_test = dataset[training_data_len:, :]\n",
    "for i in range(60, len(test_data)):\n",
    "    x_test.append(test_data[i-60:i, 0])\n",
    "    \n",
    "# Convert the data to a numpy array\n",
    "x_test = np.array(x_test)\n",
    "\n",
    "# Reshape the data\n",
    "x_test = np.reshape(x_test, (x_test.shape[0], x_test.shape[1], 1 ))\n",
    "\n",
    "# Get the models predicted price values \n",
    "predictions = model.predict(x_test)\n",
    "predictions = scaler.inverse_transform(predictions)\n"
   ]
  },
  {
   "cell_type": "code",
   "execution_count": null,
   "id": "346c5488",
   "metadata": {},
   "outputs": [],
   "source": [
    "# Get the root mean squared error (RMSE)\n",
    "rmse = np.sqrt(np.mean(((predictions - y_test) ** 2)))\n",
    "rmse"
   ]
  },
  {
   "cell_type": "code",
   "execution_count": null,
   "id": "dfbbd351",
   "metadata": {},
   "outputs": [],
   "source": [
    "from sklearn.metrics import r2_score\n",
    "\n",
    "# assume that y_true and y_pred are the true and predicted values, respectively\n",
    "r2 = r2_score(y_test, predictions)\n",
    "\n",
    "print('R-squared score: {:.3f}'.format(r2))\n"
   ]
  },
  {
   "cell_type": "code",
   "execution_count": null,
   "id": "fc5ea535",
   "metadata": {},
   "outputs": [],
   "source": [
    "# Plot the data\n",
    "train = data[:training_data_len]\n",
    "valid = data[training_data_len:]\n",
    "valid.loc[:, 'Predictions'] = predictions\n",
    "# Visualize the data\n",
    "plt.figure(figsize=(16,6))\n",
    "plt.title('Model')\n",
    "plt.xlabel('Date', fontsize=18)\n",
    "plt.ylabel('Close Price INR)', fontsize=18)\n",
    "plt.plot(train['Close'])\n",
    "plt.plot(valid[['Close']], 'g')\n",
    "plt.plot(valid[['Predictions']], 'r')\n",
    "plt.legend(['Train', 'Validation','Predictions'], loc='lower right')\n",
    "plt.show()"
   ]
  },
  {
   "cell_type": "code",
   "execution_count": null,
   "id": "a68e6e00",
   "metadata": {},
   "outputs": [],
   "source": [
    "# Show the valid and predicted prices\n",
    "valid"
   ]
  },
  {
   "cell_type": "code",
   "execution_count": null,
   "id": "6e3768d1",
   "metadata": {},
   "outputs": [],
   "source": [
    "import numpy as np\n",
    "import pandas as pd\n",
    "\n",
    "# Load the data and extract the latest date information\n",
    "import yfinance as yf\n",
    "\n",
    "ticker = \"AAPL\"  # replace with the desired stock ticker\n",
    "data = yf.download(ticker)\n",
    "\n",
    "latest_date = data.index[-1].strftime(\"%Y-%m-%d\")\n",
    "print(\"Latest date:\", latest_date)\n",
    "\n",
    "\n",
    "# Convert the latest date information to a date object\n",
    "latest_date = pd.to_datetime(latest_date)\n",
    "\n",
    "# Increment the date to get the date for the next day\n",
    "next_day = latest_date + pd.Timedelta(days=1)\n",
    "\n",
    "# Reshape the data for prediction\n",
    "real_data = x_train[-1,:,:]\n",
    "real_data = real_data.reshape(1,real_data.shape[0],real_data.shape[1])\n",
    "\n",
    "# Predict the next day price\n",
    "next_day_price_prediction = model.predict(real_data)\n",
    "next_day_price_prediction = scaler.inverse_transform(next_day_price_prediction)\n",
    "next_day_price = next_day_price_prediction[0,0]\n",
    "\n",
    "# Print the next day date and price\n",
    "print(\"Next Day: \", next_day)\n",
    "print(\"Next Day Price: \", next_day_price)"
   ]
  },
  {
   "cell_type": "code",
   "execution_count": null,
   "id": "4b4444c9",
   "metadata": {},
   "outputs": [],
   "source": []
  }
 ],
 "metadata": {
  "kernelspec": {
   "display_name": "Python 3 (ipykernel)",
   "language": "python",
   "name": "python3"
  },
  "language_info": {
   "codemirror_mode": {
    "name": "ipython",
    "version": 3
   },
   "file_extension": ".py",
   "mimetype": "text/x-python",
   "name": "python",
   "nbconvert_exporter": "python",
   "pygments_lexer": "ipython3",
   "version": "3.10.9"
  }
 },
 "nbformat": 4,
 "nbformat_minor": 5
}
